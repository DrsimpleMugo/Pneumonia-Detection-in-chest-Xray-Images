{
  "nbformat": 4,
  "nbformat_minor": 0,
  "metadata": {
    "colab": {
      "name": "Pneumonia_Detection.ipynb",
      "provenance": [],
      "collapsed_sections": [],
      "mount_file_id": "1jqLhjMeCvI5LLj9FgeIu6XDkbAdD07-E",
      "authorship_tag": "ABX9TyO4yJJPX1tq5lTypsXL9SFv",
      "include_colab_link": true
    },
    "kernelspec": {
      "name": "python3",
      "display_name": "Python 3"
    },
    "language_info": {
      "name": "python"
    },
    "accelerator": "GPU"
  },
  "cells": [
    {
      "cell_type": "markdown",
      "metadata": {
        "id": "view-in-github",
        "colab_type": "text"
      },
      "source": [
        "<a href=\"https://colab.research.google.com/github/DrsimpleMugo/Pneumonia-Detection-in-chest-Xray-Images/blob/main/Pneumonia_Detection.ipynb\" target=\"_parent\"><img src=\"https://colab.research.google.com/assets/colab-badge.svg\" alt=\"Open In Colab\"/></a>"
      ]
    },
    {
      "cell_type": "code",
      "metadata": {
        "colab": {
          "base_uri": "https://localhost:8080/"
        },
        "id": "jNmc2pcG_86j",
        "outputId": "efbd8e28-a1d3-4e42-f3ae-65725a579e3d"
      },
      "source": [
        "import tensorflow as tf\n",
        "from tensorflow.keras.layers import Input, Lambda, Dense, Flatten\n",
        "from tensorflow.keras.models import Model\n",
        "from tensorflow.keras.applications.inception_v3 import InceptionV3\n",
        "from tensorflow.keras.applications.inception_v3 import preprocess_input\n",
        "from tensorflow.keras.preprocessing import image\n",
        "from tensorflow.keras import callbacks,optimizers\n",
        "from tensorflow.keras.preprocessing.image import ImageDataGenerator, load_img\n",
        "from tensorflow.keras.models import Sequential\n",
        "import numpy as np\n",
        "from glob import glob\n",
        "print('successful')"
      ],
      "execution_count": null,
      "outputs": [
        {
          "output_type": "stream",
          "text": [
            "successful\n"
          ],
          "name": "stdout"
        }
      ]
    },
    {
      "cell_type": "code",
      "metadata": {
        "id": "3Mnp47_7BZEt"
      },
      "source": [
        "IMAGE_SIZE = [224,224]\n",
        "\n",
        "train_path = '/content/drive/MyDrive/chest_xray/train'\n",
        "test_path = '/content/drive/MyDrive/chest_xray/test'"
      ],
      "execution_count": null,
      "outputs": []
    },
    {
      "cell_type": "code",
      "metadata": {
        "colab": {
          "base_uri": "https://localhost:8080/"
        },
        "id": "8UpGrzMXD-RY",
        "outputId": "2e6c3a6e-07fe-4a1e-d598-85ba5dd94522"
      },
      "source": [
        "inception = InceptionV3(input_shape=IMAGE_SIZE + [3], weights='imagenet', include_top=False )"
      ],
      "execution_count": null,
      "outputs": [
        {
          "output_type": "stream",
          "text": [
            "Downloading data from https://storage.googleapis.com/tensorflow/keras-applications/inception_v3/inception_v3_weights_tf_dim_ordering_tf_kernels_notop.h5\n",
            "87916544/87910968 [==============================] - 3s 0us/step\n"
          ],
          "name": "stdout"
        }
      ]
    },
    {
      "cell_type": "code",
      "metadata": {
        "id": "JCsP17kVEjhv"
      },
      "source": [
        "for layer in inception.layers:\n",
        "   layer.trainable = False"
      ],
      "execution_count": null,
      "outputs": []
    },
    {
      "cell_type": "code",
      "metadata": {
        "id": "I1Y-p-PGEn6M"
      },
      "source": [
        "folders = glob ('/content/drive/MyDrive/chest_xray/train/*')"
      ],
      "execution_count": null,
      "outputs": []
    },
    {
      "cell_type": "code",
      "metadata": {
        "colab": {
          "base_uri": "https://localhost:8080/"
        },
        "id": "-iUoPoiqFcuu",
        "outputId": "ab39a085-e30e-43c0-abb3-e58ad6f68f21"
      },
      "source": [
        "folders"
      ],
      "execution_count": null,
      "outputs": [
        {
          "output_type": "execute_result",
          "data": {
            "text/plain": [
              "['/content/drive/MyDrive/chest_xray/train/PNEUMONIA',\n",
              " '/content/drive/MyDrive/chest_xray/train/NORMAL']"
            ]
          },
          "metadata": {
            "tags": []
          },
          "execution_count": 6
        }
      ]
    },
    {
      "cell_type": "code",
      "metadata": {
        "id": "HWB4orbYFsYG"
      },
      "source": [
        "x = Flatten()(inception.output)"
      ],
      "execution_count": null,
      "outputs": []
    },
    {
      "cell_type": "code",
      "metadata": {
        "id": "zdhO_I7XGWnO"
      },
      "source": [
        "prediction = Dense(len(folders), activation='softmax')(x)\n",
        "\n",
        "model = Model(inputs = inception.input, outputs=prediction)"
      ],
      "execution_count": null,
      "outputs": []
    },
    {
      "cell_type": "code",
      "metadata": {
        "id": "OlTLeu_5O0Rg"
      },
      "source": [
        "model.compile(\n",
        "    loss = 'categorical_crossentropy',\n",
        "    optimizer='adam',\n",
        "    metrics = ['accuracy']\n",
        ")"
      ],
      "execution_count": null,
      "outputs": []
    },
    {
      "cell_type": "code",
      "metadata": {
        "id": "FEH08FLvO6zh"
      },
      "source": [
        "elst = callbacks.EarlyStopping(monitor='val_loss', patience=5, mode='min')\n",
        "save_ck = callbacks.ModelCheckpoint('/content/drive/MyDrive/Pneumonia.h5', save_best_only=True, monitor='val_loss', mode='min')"
      ],
      "execution_count": null,
      "outputs": []
    },
    {
      "cell_type": "code",
      "metadata": {
        "id": "7aehsjTBOPxb"
      },
      "source": [
        "from tensorflow.keras.preprocessing.image import ImageDataGenerator\n",
        "\n",
        "train_datagen = ImageDataGenerator(rescale= 1./255,\n",
        "                                   shear_range = 0.2,\n",
        "                                   zoom_range = 0.2,\n",
        "                                   horizontal_flip = True)\n",
        "\n",
        "test_datagen = ImageDataGenerator(rescale=1./255)"
      ],
      "execution_count": null,
      "outputs": []
    },
    {
      "cell_type": "code",
      "metadata": {
        "colab": {
          "base_uri": "https://localhost:8080/"
        },
        "id": "ZV0LrFwoOSDo",
        "outputId": "59aae0ec-c15f-4e84-e56d-1b2e647dba90"
      },
      "source": [
        "training_set = train_datagen.flow_from_directory('/content/drive/MyDrive/chest_xray/train',\n",
        "                                                 target_size = (224,224),\n",
        "                                                 batch_size = 16,\n",
        "                                                 class_mode = 'categorical')\n"
      ],
      "execution_count": null,
      "outputs": [
        {
          "output_type": "stream",
          "text": [
            "Found 1748 images belonging to 2 classes.\n"
          ],
          "name": "stdout"
        }
      ]
    },
    {
      "cell_type": "code",
      "metadata": {
        "colab": {
          "base_uri": "https://localhost:8080/"
        },
        "id": "aiK20TWOO8Ik",
        "outputId": "720073c1-4767-4877-a649-e87e50a9b088"
      },
      "source": [
        "from google.colab import drive\n",
        "drive.mount('/content/drive')"
      ],
      "execution_count": null,
      "outputs": [
        {
          "output_type": "stream",
          "text": [
            "Drive already mounted at /content/drive; to attempt to forcibly remount, call drive.mount(\"/content/drive\", force_remount=True).\n"
          ],
          "name": "stdout"
        }
      ]
    },
    {
      "cell_type": "code",
      "metadata": {
        "colab": {
          "base_uri": "https://localhost:8080/"
        },
        "id": "94U79z9pOwWM",
        "outputId": "ddc9e202-8d68-42ea-8dd7-385d6e65b03f"
      },
      "source": [
        "test_set = test_datagen.flow_from_directory('/content/drive/MyDrive/chest_xray/test',\n",
        "                                            target_size = (224,224),\n",
        "                                            batch_size = 16,\n",
        "                                            class_mode = 'categorical')"
      ],
      "execution_count": null,
      "outputs": [
        {
          "output_type": "stream",
          "text": [
            "Found 506 images belonging to 2 classes.\n"
          ],
          "name": "stdout"
        }
      ]
    },
    {
      "cell_type": "code",
      "metadata": {
        "colab": {
          "base_uri": "https://localhost:8080/"
        },
        "id": "5_HImq8bOx3P",
        "outputId": "9e91d4ac-4de2-4417-9002-d9ae1e337a33"
      },
      "source": [
        "r = model.fit(\n",
        "    training_set,\n",
        "    validation_data = test_set,\n",
        "    #callbacks = [elst, save_ck],\n",
        "    epochs = 50,\n",
        "    steps_per_epoch = len(training_set),\n",
        "    validation_steps=len(test_set) \n",
        ")"
      ],
      "execution_count": null,
      "outputs": [
        {
          "output_type": "stream",
          "text": [
            "Epoch 1/50\n",
            "110/110 [==============================] - 1209s 11s/step - loss: 1.1914 - accuracy: 0.8896 - val_loss: 2.0525 - val_accuracy: 0.8577\n",
            "Epoch 2/50\n",
            "110/110 [==============================] - 55s 495ms/step - loss: 0.5367 - accuracy: 0.9388 - val_loss: 2.3549 - val_accuracy: 0.8538\n",
            "Epoch 3/50\n",
            "110/110 [==============================] - ETA: 0s - loss: 0.4834 - accuracy: 0.9554Epoch 4/50\n",
            "110/110 [==============================] - 55s 500ms/step - loss: 0.9917 - accuracy: 0.9359 - val_loss: 4.4770 - val_accuracy: 0.8281\n",
            "Epoch 5/50\n",
            "110/110 [==============================] - 55s 498ms/step - loss: 0.6767 - accuracy: 0.9519 - val_loss: 3.4050 - val_accuracy: 0.8775\n",
            "Epoch 6/50\n",
            "110/110 [==============================] - 54s 492ms/step - loss: 0.5103 - accuracy: 0.9651 - val_loss: 2.6525 - val_accuracy: 0.8814\n",
            "Epoch 7/50\n",
            "110/110 [==============================] - 54s 493ms/step - loss: 0.3917 - accuracy: 0.9622 - val_loss: 7.5184 - val_accuracy: 0.7589\n",
            "Epoch 8/50\n",
            "110/110 [==============================] - 54s 492ms/step - loss: 0.4706 - accuracy: 0.9662 - val_loss: 6.5094 - val_accuracy: 0.7945\n",
            "Epoch 9/50\n",
            "110/110 [==============================] - 55s 497ms/step - loss: 0.4968 - accuracy: 0.9600 - val_loss: 5.0078 - val_accuracy: 0.8478\n",
            "Epoch 10/50\n",
            "110/110 [==============================] - 55s 496ms/step - loss: 0.3794 - accuracy: 0.9651 - val_loss: 3.6287 - val_accuracy: 0.8636\n",
            "Epoch 11/50\n",
            "110/110 [==============================] - 56s 507ms/step - loss: 0.4539 - accuracy: 0.9691 - val_loss: 4.8860 - val_accuracy: 0.8636\n",
            "Epoch 12/50\n",
            "110/110 [==============================] - 55s 498ms/step - loss: 0.3759 - accuracy: 0.9725 - val_loss: 4.7461 - val_accuracy: 0.8478\n",
            "Epoch 13/50\n",
            "110/110 [==============================] - 52s 478ms/step - loss: 0.2614 - accuracy: 0.9783 - val_loss: 3.9583 - val_accuracy: 0.8775\n",
            "Epoch 14/50\n",
            "110/110 [==============================] - 54s 493ms/step - loss: 0.4285 - accuracy: 0.9674 - val_loss: 4.9382 - val_accuracy: 0.8538\n",
            "Epoch 15/50\n",
            "110/110 [==============================] - 54s 489ms/step - loss: 0.2762 - accuracy: 0.9771 - val_loss: 7.1146 - val_accuracy: 0.8142\n",
            "Epoch 16/50\n",
            "110/110 [==============================] - 54s 492ms/step - loss: 0.5143 - accuracy: 0.9691 - val_loss: 4.9486 - val_accuracy: 0.8696\n",
            "Epoch 17/50\n",
            "110/110 [==============================] - 55s 500ms/step - loss: 0.2178 - accuracy: 0.9800 - val_loss: 8.1361 - val_accuracy: 0.8142\n",
            "Epoch 18/50\n",
            "110/110 [==============================] - 56s 510ms/step - loss: 0.3187 - accuracy: 0.9725 - val_loss: 3.3340 - val_accuracy: 0.8834\n",
            "Epoch 19/50\n",
            "110/110 [==============================] - 56s 509ms/step - loss: 0.4331 - accuracy: 0.9720 - val_loss: 9.1791 - val_accuracy: 0.7866\n",
            "Epoch 20/50\n",
            "110/110 [==============================] - 56s 511ms/step - loss: 0.4025 - accuracy: 0.9737 - val_loss: 4.5801 - val_accuracy: 0.8735\n",
            "Epoch 21/50\n",
            "110/110 [==============================] - 56s 510ms/step - loss: 1.1266 - accuracy: 0.9594 - val_loss: 5.6478 - val_accuracy: 0.8775\n",
            "Epoch 22/50\n",
            "110/110 [==============================] - 56s 512ms/step - loss: 0.8200 - accuracy: 0.9634 - val_loss: 8.9229 - val_accuracy: 0.8202\n",
            "Epoch 23/50\n",
            "110/110 [==============================] - 57s 514ms/step - loss: 0.2985 - accuracy: 0.9834 - val_loss: 6.2496 - val_accuracy: 0.8656\n",
            "Epoch 24/50\n",
            "110/110 [==============================] - 56s 512ms/step - loss: 0.5093 - accuracy: 0.9748 - val_loss: 9.0052 - val_accuracy: 0.8142\n",
            "Epoch 25/50\n",
            "110/110 [==============================] - 56s 509ms/step - loss: 0.4769 - accuracy: 0.9748 - val_loss: 6.9559 - val_accuracy: 0.8696\n",
            "Epoch 26/50\n",
            "110/110 [==============================] - 55s 503ms/step - loss: 0.3505 - accuracy: 0.9777 - val_loss: 15.3523 - val_accuracy: 0.7589\n",
            "Epoch 27/50\n",
            "110/110 [==============================] - 56s 507ms/step - loss: 0.6803 - accuracy: 0.9674 - val_loss: 9.0903 - val_accuracy: 0.8340\n",
            "Epoch 28/50\n",
            "110/110 [==============================] - 56s 511ms/step - loss: 0.3644 - accuracy: 0.9783 - val_loss: 10.2603 - val_accuracy: 0.8063\n",
            "Epoch 29/50\n",
            "110/110 [==============================] - 56s 512ms/step - loss: 0.3136 - accuracy: 0.9771 - val_loss: 9.9490 - val_accuracy: 0.8281\n",
            "Epoch 30/50\n",
            "110/110 [==============================] - 56s 508ms/step - loss: 0.3461 - accuracy: 0.9823 - val_loss: 9.6687 - val_accuracy: 0.8221\n",
            "Epoch 31/50\n",
            "110/110 [==============================] - 56s 509ms/step - loss: 0.4778 - accuracy: 0.9760 - val_loss: 6.3708 - val_accuracy: 0.8715\n",
            "Epoch 32/50\n",
            "110/110 [==============================] - 56s 512ms/step - loss: 0.3628 - accuracy: 0.9800 - val_loss: 7.0445 - val_accuracy: 0.8636\n",
            "Epoch 33/50\n",
            "110/110 [==============================] - 56s 510ms/step - loss: 0.6634 - accuracy: 0.9708 - val_loss: 6.9950 - val_accuracy: 0.8597\n",
            "Epoch 34/50\n",
            "110/110 [==============================] - 56s 514ms/step - loss: 0.4633 - accuracy: 0.9794 - val_loss: 5.7893 - val_accuracy: 0.8775\n",
            "Epoch 35/50\n",
            "110/110 [==============================] - 57s 515ms/step - loss: 0.2008 - accuracy: 0.9903 - val_loss: 5.4606 - val_accuracy: 0.8933\n",
            "Epoch 36/50\n",
            "110/110 [==============================] - 57s 518ms/step - loss: 0.3446 - accuracy: 0.9811 - val_loss: 5.8565 - val_accuracy: 0.8854\n",
            "Epoch 37/50\n",
            "110/110 [==============================] - 57s 514ms/step - loss: 0.5709 - accuracy: 0.9760 - val_loss: 5.2898 - val_accuracy: 0.8735\n",
            "Epoch 38/50\n",
            "110/110 [==============================] - 56s 508ms/step - loss: 0.5480 - accuracy: 0.9754 - val_loss: 6.6205 - val_accuracy: 0.8794\n",
            "Epoch 39/50\n",
            "110/110 [==============================] - 56s 508ms/step - loss: 0.6658 - accuracy: 0.9743 - val_loss: 5.3569 - val_accuracy: 0.8933\n",
            "Epoch 40/50\n",
            "110/110 [==============================] - 56s 508ms/step - loss: 0.4469 - accuracy: 0.9777 - val_loss: 5.3732 - val_accuracy: 0.8953\n",
            "Epoch 41/50\n",
            "110/110 [==============================] - 56s 507ms/step - loss: 0.4271 - accuracy: 0.9811 - val_loss: 9.3788 - val_accuracy: 0.8399\n",
            "Epoch 42/50\n",
            "110/110 [==============================] - 57s 519ms/step - loss: 0.2949 - accuracy: 0.9828 - val_loss: 7.3280 - val_accuracy: 0.8656\n",
            "Epoch 43/50\n",
            "110/110 [==============================] - 56s 511ms/step - loss: 0.4645 - accuracy: 0.9794 - val_loss: 10.6448 - val_accuracy: 0.8221\n",
            "Epoch 44/50\n",
            "110/110 [==============================] - 56s 510ms/step - loss: 0.2772 - accuracy: 0.9874 - val_loss: 7.8827 - val_accuracy: 0.8617\n",
            "Epoch 45/50\n",
            "110/110 [==============================] - 56s 508ms/step - loss: 0.3290 - accuracy: 0.9834 - val_loss: 5.8325 - val_accuracy: 0.8953\n",
            "Epoch 46/50\n",
            "110/110 [==============================] - 56s 511ms/step - loss: 0.5408 - accuracy: 0.9760 - val_loss: 10.7562 - val_accuracy: 0.8261\n",
            "Epoch 47/50\n",
            "110/110 [==============================] - 56s 507ms/step - loss: 0.2389 - accuracy: 0.9851 - val_loss: 5.8077 - val_accuracy: 0.8953\n",
            "Epoch 48/50\n",
            "110/110 [==============================] - 56s 510ms/step - loss: 0.1640 - accuracy: 0.9903 - val_loss: 7.0012 - val_accuracy: 0.8913\n",
            "Epoch 49/50\n",
            "110/110 [==============================] - 56s 506ms/step - loss: 0.3834 - accuracy: 0.9788 - val_loss: 5.9869 - val_accuracy: 0.8893\n",
            "Epoch 50/50\n",
            "110/110 [==============================] - 56s 513ms/step - loss: 0.3021 - accuracy: 0.9840 - val_loss: 11.8222 - val_accuracy: 0.8004\n"
          ],
          "name": "stdout"
        }
      ]
    },
    {
      "cell_type": "code",
      "metadata": {
        "id": "T8fpQEFIUErI"
      },
      "source": [
        "import matplotlib.pyplot as plt"
      ],
      "execution_count": null,
      "outputs": []
    },
    {
      "cell_type": "code",
      "metadata": {
        "colab": {
          "base_uri": "https://localhost:8080/",
          "height": 562
        },
        "id": "rH0b3hTkULi1",
        "outputId": "7418de50-336b-4d80-8d56-2c6f5a9332c9"
      },
      "source": [
        "# plot the loss\n",
        "plt.plot(r.history['loss'], label='train loss')\n",
        "plt.plot(r.history['val_loss'], label='val loss')\n",
        "plt.legend()\n",
        "plt.title(\"Epochs vs Loss\")\n",
        "plt.show()\n",
        "plt.savefig('LossVal_loss')\n",
        "\n",
        "# plot the accuracy\n",
        "plt.plot(r.history['accuracy'], label='train acc')\n",
        "plt.plot(r.history['val_accuracy'], label='val acc')\n",
        "plt.legend()\n",
        "plt.title(\"Epochs vs Accuracy\")\n",
        "plt.show()\n",
        "plt.savefig('AccVal_acc')"
      ],
      "execution_count": null,
      "outputs": [
        {
          "output_type": "display_data",
          "data": {
            "image/png": "[encoded data removed]",
            "text/plain": [
              "<Figure size 432x288 with 1 Axes>"
            ]
          },
          "metadata": {
            "tags": [],
            "needs_background": "light"
          }
        },
        {
          "output_type": "display_data",
          "data": {
            "image/png": "[encoded data removed]",
            "text/plain": [
              "<Figure size 432x288 with 1 Axes>"
            ]
          },
          "metadata": {
            "tags": [],
            "needs_background": "light"
          }
        },
        {
          "output_type": "display_data",
          "data": {
            "text/plain": [
              "<Figure size 432x288 with 0 Axes>"
            ]
          },
          "metadata": {
            "tags": []
          }
        }
      ]
    },
    {
      "cell_type": "code",
      "metadata": {
        "id": "28YEgW6PUPGt"
      },
      "source": [
        "y_pred = model.predict(test_set)"
      ],
      "execution_count": null,
      "outputs": []
    },
    {
      "cell_type": "code",
      "metadata": {
        "colab": {
          "base_uri": "https://localhost:8080/"
        },
        "id": "fvBLFrQQUdpk",
        "outputId": "6ecc463e-8047-4237-c0dc-a04a9d7d9402"
      },
      "source": [
        "y_pred"
      ],
      "execution_count": null,
      "outputs": [
        {
          "output_type": "execute_result",
          "data": {
            "text/plain": [
              "array([[0.0000000e+00, 1.0000000e+00],\n",
              "       [1.9507575e-13, 1.0000000e+00],\n",
              "       [0.0000000e+00, 1.0000000e+00],\n",
              "       ...,\n",
              "       [0.0000000e+00, 1.0000000e+00],\n",
              "       [9.9997878e-01, 2.1162512e-05],\n",
              "       [0.0000000e+00, 1.0000000e+00]], dtype=float32)"
            ]
          },
          "metadata": {
            "tags": []
          },
          "execution_count": 19
        }
      ]
    },
    {
      "cell_type": "code",
      "metadata": {
        "id": "yzopaQ2jUgPK"
      },
      "source": [
        "import numpy as np\n",
        "y_pred = np.argmax(y_pred, axis=1)"
      ],
      "execution_count": null,
      "outputs": []
    },
    {
      "cell_type": "code",
      "metadata": {
        "colab": {
          "base_uri": "https://localhost:8080/"
        },
        "id": "YmPfQDRvUm2M",
        "outputId": "04b2cbc9-7f2b-4d4e-c738-480fa4da3514"
      },
      "source": [
        "y_pred"
      ],
      "execution_count": null,
      "outputs": [
        {
          "output_type": "execute_result",
          "data": {
            "text/plain": [
              "array([1, 1, 1, 1, 1, 1, 1, 1, 0, 0, 1, 1, 1, 1, 0, 1, 1, 1, 0, 1, 1, 1,\n",
              "       1, 1, 1, 1, 1, 1, 1, 0, 1, 1, 1, 1, 0, 1, 1, 1, 0, 0, 1, 1, 0, 1,\n",
              "       1, 1, 1, 0, 1, 1, 1, 0, 1, 1, 1, 1, 1, 1, 1, 1, 0, 1, 1, 1, 1, 1,\n",
              "       0, 1, 0, 1, 1, 1, 1, 0, 1, 1, 1, 1, 1, 1, 1, 1, 1, 1, 1, 1, 1, 1,\n",
              "       1, 1, 1, 1, 1, 0, 0, 1, 1, 1, 1, 1, 1, 1, 1, 1, 1, 1, 0, 0, 0, 1,\n",
              "       1, 0, 0, 1, 1, 0, 0, 1, 1, 1, 1, 1, 1, 1, 1, 1, 0, 0, 1, 0, 1, 1,\n",
              "       1, 1, 1, 0, 1, 1, 0, 0, 1, 0, 1, 0, 1, 1, 1, 1, 0, 1, 0, 1, 0, 1,\n",
              "       1, 1, 1, 1, 1, 1, 1, 1, 1, 1, 0, 1, 0, 1, 1, 0, 1, 1, 0, 1, 1, 1,\n",
              "       1, 1, 1, 0, 1, 1, 0, 1, 1, 1, 0, 1, 1, 1, 1, 1, 1, 1, 0, 1, 1, 1,\n",
              "       1, 1, 1, 1, 1, 1, 1, 1, 1, 1, 1, 0, 1, 0, 1, 1, 1, 1, 1, 1, 1, 1,\n",
              "       0, 1, 1, 1, 0, 1, 1, 0, 1, 1, 1, 0, 1, 1, 1, 1, 1, 1, 1, 1, 1, 1,\n",
              "       1, 0, 1, 1, 1, 1, 1, 1, 1, 1, 1, 1, 1, 1, 0, 1, 1, 0, 0, 1, 1, 1,\n",
              "       0, 1, 1, 1, 1, 1, 1, 1, 1, 1, 1, 1, 1, 1, 1, 1, 0, 1, 1, 1, 1, 1,\n",
              "       0, 0, 1, 1, 1, 0, 1, 1, 1, 0, 1, 0, 1, 1, 1, 1, 1, 0, 1, 1, 1, 1,\n",
              "       0, 1, 0, 0, 1, 0, 1, 1, 0, 1, 1, 1, 0, 1, 1, 1, 0, 1, 1, 0, 1, 1,\n",
              "       1, 1, 1, 0, 1, 1, 1, 1, 1, 1, 1, 0, 0, 0, 1, 1, 1, 0, 1, 0, 0, 1,\n",
              "       1, 1, 1, 1, 1, 0, 0, 1, 1, 0, 1, 0, 1, 0, 1, 1, 0, 0, 0, 1, 1, 1,\n",
              "       1, 1, 1, 1, 1, 1, 0, 0, 0, 1, 1, 1, 1, 1, 1, 0, 1, 1, 1, 1, 1, 1,\n",
              "       1, 1, 1, 1, 0, 1, 1, 0, 1, 1, 1, 0, 1, 1, 1, 1, 0, 0, 1, 1, 1, 0,\n",
              "       1, 0, 1, 0, 1, 1, 0, 1, 1, 0, 0, 0, 1, 1, 0, 1, 0, 0, 1, 1, 1, 1,\n",
              "       0, 1, 0, 1, 0, 0, 1, 1, 0, 1, 1, 1, 1, 0, 1, 0, 1, 1, 1, 1, 1, 1,\n",
              "       1, 1, 1, 1, 1, 1, 1, 0, 0, 1, 1, 0, 1, 1, 0, 1, 1, 1, 0, 1, 1, 1,\n",
              "       1, 1, 0, 1, 0, 1, 1, 1, 1, 1, 1, 1, 1, 0, 0, 1, 0, 1, 1, 1, 0, 1])"
            ]
          },
          "metadata": {
            "tags": []
          },
          "execution_count": 21
        }
      ]
    },
    {
      "cell_type": "code",
      "metadata": {
        "id": "IsGYO3j3UpF9"
      },
      "source": [
        "from tensorflow.keras.models import load_model\n",
        "from tensorflow.keras.preprocessing import image\n",
        "\n",
        "model.save('/content/drive/MyDrive/Pneumonia3.h5')"
      ],
      "execution_count": null,
      "outputs": []
    },
    {
      "cell_type": "code",
      "metadata": {
        "id": "4ekiN-Izfe24"
      },
      "source": [
        "model = load_model('/content/drive/MyDrive/Pneumonia3.h5')"
      ],
      "execution_count": null,
      "outputs": []
    },
    {
      "cell_type": "code",
      "metadata": {
        "id": "K2VseH4CfrK1"
      },
      "source": [
        "img = image.load_img('/content/drive/MyDrive/chest_xray/train/NORMAL/IM-0133-0001.jpeg', target_size = (224,224))"
      ],
      "execution_count": null,
      "outputs": []
    },
    {
      "cell_type": "markdown",
      "metadata": {
        "id": "Fpr92pkrkn06"
      },
      "source": [
        ""
      ]
    },
    {
      "cell_type": "code",
      "metadata": {
        "id": "QZJbXaVAgWfM"
      },
      "source": [
        "arr_img = image.img_to_array(img)"
      ],
      "execution_count": null,
      "outputs": []
    },
    {
      "cell_type": "code",
      "metadata": {
        "colab": {
          "base_uri": "https://localhost:8080/"
        },
        "id": "HO1JJocwgfp6",
        "outputId": "08b2f286-f1f5-441d-c802-a393bcbccbd7"
      },
      "source": [
        "arr_img"
      ],
      "execution_count": null,
      "outputs": [
        {
          "output_type": "execute_result",
          "data": {
            "text/plain": [
              "array([[[60., 60., 60.],\n",
              "        [58., 58., 58.],\n",
              "        [51., 51., 51.],\n",
              "        ...,\n",
              "        [ 0.,  0.,  0.],\n",
              "        [ 0.,  0.,  0.],\n",
              "        [ 0.,  0.,  0.]],\n",
              "\n",
              "       [[61., 61., 61.],\n",
              "        [59., 59., 59.],\n",
              "        [55., 55., 55.],\n",
              "        ...,\n",
              "        [ 0.,  0.,  0.],\n",
              "        [ 0.,  0.,  0.],\n",
              "        [ 0.,  0.,  0.]],\n",
              "\n",
              "       [[60., 60., 60.],\n",
              "        [57., 57., 57.],\n",
              "        [52., 52., 52.],\n",
              "        ...,\n",
              "        [ 0.,  0.,  0.],\n",
              "        [ 0.,  0.,  0.],\n",
              "        [ 0.,  0.,  0.]],\n",
              "\n",
              "       ...,\n",
              "\n",
              "       [[ 0.,  0.,  0.],\n",
              "        [ 0.,  0.,  0.],\n",
              "        [ 0.,  0.,  0.],\n",
              "        ...,\n",
              "        [ 0.,  0.,  0.],\n",
              "        [ 0.,  0.,  0.],\n",
              "        [ 0.,  0.,  0.]],\n",
              "\n",
              "       [[ 0.,  0.,  0.],\n",
              "        [ 0.,  0.,  0.],\n",
              "        [ 0.,  0.,  0.],\n",
              "        ...,\n",
              "        [ 0.,  0.,  0.],\n",
              "        [ 0.,  0.,  0.],\n",
              "        [ 0.,  0.,  0.]],\n",
              "\n",
              "       [[ 0.,  0.,  0.],\n",
              "        [ 0.,  0.,  0.],\n",
              "        [ 0.,  0.,  0.],\n",
              "        ...,\n",
              "        [ 0.,  0.,  0.],\n",
              "        [ 0.,  0.,  0.],\n",
              "        [ 0.,  0.,  0.]]], dtype=float32)"
            ]
          },
          "metadata": {
            "tags": []
          },
          "execution_count": 58
        }
      ]
    },
    {
      "cell_type": "code",
      "metadata": {
        "id": "fuqm3LtugoT8"
      },
      "source": [
        "arr_img = arr_img/255"
      ],
      "execution_count": null,
      "outputs": []
    },
    {
      "cell_type": "code",
      "metadata": {
        "colab": {
          "base_uri": "https://localhost:8080/"
        },
        "id": "HcpXCdAlgug6",
        "outputId": "f914c63e-44fa-4b9f-dba0-2734ef19612a"
      },
      "source": [
        "import numpy as np\n",
        "arr_img = np.expand_dims(arr_img, axis = 0)\n",
        "img_data = preprocess_input(arr_img)\n",
        "img_data.shape"
      ],
      "execution_count": null,
      "outputs": [
        {
          "output_type": "execute_result",
          "data": {
            "text/plain": [
              "(1, 224, 224, 3)"
            ]
          },
          "metadata": {
            "tags": []
          },
          "execution_count": 60
        }
      ]
    },
    {
      "cell_type": "code",
      "metadata": {
        "colab": {
          "base_uri": "https://localhost:8080/"
        },
        "id": "Q4Vos-g-hJ9f",
        "outputId": "0d3fb1cf-7360-4a06-f75a-cdcfe5486f96"
      },
      "source": [
        "prediction = model.predict(img_data)\n",
        "\n",
        "prediction"
      ],
      "execution_count": null,
      "outputs": [
        {
          "output_type": "execute_result",
          "data": {
            "text/plain": [
              "array([[0.9965299 , 0.00347016]], dtype=float32)"
            ]
          },
          "metadata": {
            "tags": []
          },
          "execution_count": 61
        }
      ]
    },
    {
      "cell_type": "code",
      "metadata": {
        "colab": {
          "base_uri": "https://localhost:8080/"
        },
        "id": "0sWfPWJchZwf",
        "outputId": "28980923-5ccb-4cb7-826a-e9d5dcc5f402"
      },
      "source": [
        "class_img = np.argmax(prediction, axis = 1)\n",
        "\n",
        "class_img"
      ],
      "execution_count": null,
      "outputs": [
        {
          "output_type": "execute_result",
          "data": {
            "text/plain": [
              "array([0])"
            ]
          },
          "metadata": {
            "tags": []
          },
          "execution_count": 55
        }
      ]
    }
  ]
}